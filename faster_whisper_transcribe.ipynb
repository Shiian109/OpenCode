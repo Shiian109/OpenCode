{
  "nbformat": 4,
  "nbformat_minor": 0,
  "metadata": {
    "colab": {
      "provenance": [],
      "gpuType": "T4",
      "authorship_tag": "ABX9TyNQh4DEDaClZ8M3AEOEH22p",
      "include_colab_link": true
    },
    "kernelspec": {
      "name": "python3",
      "display_name": "Python 3"
    },
    "language_info": {
      "name": "python"
    },
    "accelerator": "GPU"
  },
  "cells": [
    {
      "cell_type": "markdown",
      "metadata": {
        "id": "view-in-github",
        "colab_type": "text"
      },
      "source": [
        "<a href=\"https://colab.research.google.com/github/Shiian109/OpenCode/blob/main/faster_whisper_transcribe.ipynb\" target=\"_parent\"><img src=\"https://colab.research.google.com/assets/colab-badge.svg\" alt=\"Open In Colab\"/></a>"
      ]
    },
    {
      "cell_type": "markdown",
      "source": [
        "# 生成字幕"
      ],
      "metadata": {
        "id": "zWSlRggB-J_K"
      }
    },
    {
      "cell_type": "markdown",
      "source": [
        "## Step 1 - CPU切换到GPU"
      ],
      "metadata": {
        "id": "tHOYTr9AfjIu"
      }
    },
    {
      "cell_type": "markdown",
      "source": [
        "## Step 2 - 安装whisper-ctranlate2"
      ],
      "metadata": {
        "id": "Hv6Y-eSYpwNe"
      }
    },
    {
      "cell_type": "code",
      "execution_count": null,
      "metadata": {
        "id": "4RWaj7UhbOow"
      },
      "outputs": [],
      "source": [
        "!pip install git+https://github.com/Softcatala/whisper-ctranslate2"
      ]
    },
    {
      "cell_type": "markdown",
      "source": [
        "## Step 3 - 上传文件"
      ],
      "metadata": {
        "id": "-6ewPpbKqBeY"
      }
    },
    {
      "cell_type": "markdown",
      "source": [
        "## Step 4 - 生成原语言字幕"
      ],
      "metadata": {
        "id": "MNW70sz5qQH6"
      }
    },
    {
      "cell_type": "code",
      "source": [
        "%%time\n",
        "!whisper-ctranslate2 ted_speech.mp3 --device cuda --model medium --vad_filter True"
      ],
      "metadata": {
        "id": "yn9LgwEMs4qm"
      },
      "execution_count": null,
      "outputs": []
    },
    {
      "cell_type": "markdown",
      "source": [
        "# *生成英文字幕(附带的自动翻译功能)"
      ],
      "metadata": {
        "id": "8z2rM-NG8AVR"
      }
    },
    {
      "cell_type": "code",
      "source": [
        "%%time\n",
        "!whisper-ctranslate2 ted_speech.mp3 --device cuda --model medium --vad_filter True --task translate"
      ],
      "metadata": {
        "id": "_OQ_gLE24wt8"
      },
      "execution_count": null,
      "outputs": []
    }
  ]
}