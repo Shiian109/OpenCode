{
  "nbformat": 4,
  "nbformat_minor": 0,
  "metadata": {
    "colab": {
      "provenance": [],
      "toc_visible": true,
      "include_colab_link": true
    },
    "kernelspec": {
      "display_name": "Python 3",
      "name": "python3"
    }
  },
  "cells": [
    {
      "cell_type": "markdown",
      "metadata": {
        "id": "view-in-github",
        "colab_type": "text"
      },
      "source": [
        "<a href=\"https://colab.research.google.com/github/Shiian109/OpenCode/blob/main/RiotAPI%26RiotWatcher.ipynb\" target=\"_parent\"><img src=\"https://colab.research.google.com/assets/colab-badge.svg\" alt=\"Open In Colab\"/></a>"
      ]
    },
    {
      "cell_type": "markdown",
      "metadata": {
        "id": "ve20-0JUVGlR"
      },
      "source": [
        "# 1 - Preparation for Riot Watcher"
      ]
    },
    {
      "cell_type": "code",
      "metadata": {
        "colab": {
          "base_uri": "https://localhost:8080/"
        },
        "id": "u_RVcXgEmwYX",
        "outputId": "9f3bd47f-77b7-4028-9b05-12fa316d540a"
      },
      "source": [
        "!pip install riotwatcher"
      ],
      "execution_count": null,
      "outputs": [
        {
          "output_type": "stream",
          "name": "stdout",
          "text": [
            "Collecting riotwatcher\n",
            "  Downloading riotwatcher-3.2.5-py3-none-any.whl (59 kB)\n",
            "\u001b[2K     \u001b[90m━━━━━━━━━━━━━━━━━━━━━━━━━━━━━━━━━━━━━━━━\u001b[0m \u001b[32m59.2/59.2 kB\u001b[0m \u001b[31m929.1 kB/s\u001b[0m eta \u001b[36m0:00:00\u001b[0m\n",
            "\u001b[?25hRequirement already satisfied: requests in /usr/local/lib/python3.10/dist-packages (from riotwatcher) (2.31.0)\n",
            "Requirement already satisfied: charset-normalizer<4,>=2 in /usr/local/lib/python3.10/dist-packages (from requests->riotwatcher) (3.3.2)\n",
            "Requirement already satisfied: idna<4,>=2.5 in /usr/local/lib/python3.10/dist-packages (from requests->riotwatcher) (3.6)\n",
            "Requirement already satisfied: urllib3<3,>=1.21.1 in /usr/local/lib/python3.10/dist-packages (from requests->riotwatcher) (2.0.7)\n",
            "Requirement already satisfied: certifi>=2017.4.17 in /usr/local/lib/python3.10/dist-packages (from requests->riotwatcher) (2023.11.17)\n",
            "Installing collected packages: riotwatcher\n",
            "Successfully installed riotwatcher-3.2.5\n"
          ]
        }
      ]
    },
    {
      "cell_type": "code",
      "metadata": {
        "id": "6v6IMnV17HzB"
      },
      "source": [
        "from riotwatcher import LolWatcher, ApiError"
      ],
      "execution_count": null,
      "outputs": []
    },
    {
      "cell_type": "markdown",
      "metadata": {
        "id": "PybHx8SCl-KZ"
      },
      "source": [
        "# 2 - Preparation for Riot API"
      ]
    },
    {
      "cell_type": "markdown",
      "source": [
        "Get a Riot API for free here: https://developer.riotgames.com/"
      ],
      "metadata": {
        "id": "w2oKCbIjx53y"
      }
    },
    {
      "cell_type": "code",
      "metadata": {
        "id": "FwW0NAY9pBlb"
      },
      "source": [
        "RiotAPI = 'RGAPI-cd93eb69-c9e8-45ca-bbe2-c09d44afbd83'"
      ],
      "execution_count": null,
      "outputs": []
    },
    {
      "cell_type": "markdown",
      "metadata": {
        "id": "VGn00YiJtubl"
      },
      "source": [
        "# 3 - Access to Faker Data"
      ]
    },
    {
      "cell_type": "markdown",
      "metadata": {
        "id": "lH_qmr7VTgea"
      },
      "source": [
        "## Step 1: Create a Summoner Object of Faker"
      ]
    },
    {
      "cell_type": "code",
      "source": [
        "# Create a Faker object by LolWatcher\n",
        "lol_watcher = LolWatcher(RiotAPI)\n",
        "\n",
        "region = 'kr'\n",
        "summoner_name = 'Hide on bush'\n",
        "\n",
        "Faker = lol_watcher.summoner.by_name(region, summoner_name)"
      ],
      "metadata": {
        "id": "sXU4m2TzFv7E"
      },
      "execution_count": null,
      "outputs": []
    },
    {
      "cell_type": "code",
      "metadata": {
        "colab": {
          "base_uri": "https://localhost:8080/"
        },
        "id": "C9nqCvIDXPOe",
        "outputId": "64818ee8-003c-4cb7-e0ac-b6760e34aecc"
      },
      "source": [
        "# Rank info\n",
        "Faker_RankStatus = lol_watcher.league.by_summoner(region, Faker['id'])\n",
        "print(Faker_RankStatus)"
      ],
      "execution_count": null,
      "outputs": [
        {
          "output_type": "stream",
          "name": "stdout",
          "text": [
            "[{'leagueId': '44c5960a-c742-31d4-af24-da13e13ff109', 'queueType': 'RANKED_SOLO_5x5', 'tier': 'MASTER', 'rank': 'I', 'summonerId': 'z2ekm1uwi0ZZZqeb3dZhC9TlM4-fb3-0XkwD42qIUSX1SQ', 'summonerName': 'Hide on bush', 'leaguePoints': 287, 'wins': 313, 'losses': 277, 'veteran': False, 'inactive': False, 'freshBlood': False, 'hotStreak': False}, {'queueType': 'CHERRY', 'summonerId': 'z2ekm1uwi0ZZZqeb3dZhC9TlM4-fb3-0XkwD42qIUSX1SQ', 'summonerName': 'Hide on bush', 'leaguePoints': 0, 'wins': 5, 'losses': 6, 'veteran': False, 'inactive': False, 'freshBlood': True, 'hotStreak': False}]\n"
          ]
        }
      ]
    },
    {
      "cell_type": "markdown",
      "metadata": {
        "id": "jnW-1eT9u_AA"
      },
      "source": [
        "## Step 2: Access to latest matches by Faker's puuid"
      ]
    },
    {
      "cell_type": "code",
      "source": [
        "# Player Universally Unique IDentifiers\n",
        "print(Faker['puuid'])"
      ],
      "metadata": {
        "colab": {
          "base_uri": "https://localhost:8080/"
        },
        "id": "TDhOz9wGYeBc",
        "outputId": "73a63cfc-b167-4bca-fe63-717d7edc5d98"
      },
      "execution_count": null,
      "outputs": [
        {
          "output_type": "stream",
          "name": "stdout",
          "text": [
            "ac7wj1mbto6w-riFa1BlVVaTwsR5clNFru4cGV1W0fqOJD0pTx-7IH_B0Q-tJSvEBdeDQ317eHxRkg\n"
          ]
        }
      ]
    },
    {
      "cell_type": "code",
      "source": [
        "# latest 20 matches\n",
        "Faker_Match = lol_watcher.match.matchlist_by_puuid(region, Faker['puuid'])\n",
        "print('Number_Matches:', len(Faker_Match))\n",
        "\n",
        "import datetime as dt\n",
        "\n",
        "for i, fakerMatch in enumerate(Faker_Match):\n",
        "  LastMatch_result = lol_watcher.match.by_id(region, fakerMatch)\n",
        "  print(i, fakerMatch, dt.datetime.fromtimestamp(LastMatch_result['info']['gameStartTimestamp']/1000).strftime(\"%Y/%m/%d %H:%M\"))"
      ],
      "metadata": {
        "colab": {
          "base_uri": "https://localhost:8080/"
        },
        "id": "V9lDOF7luEt7",
        "outputId": "6a5aa1f2-e36a-403c-c68d-e7065e4afcbd"
      },
      "execution_count": null,
      "outputs": [
        {
          "output_type": "stream",
          "name": "stdout",
          "text": [
            "Number_Matches: 20\n",
            "0 KR_6869146695 2023/12/25 12:36\n",
            "1 KR_6869064909 2023/12/25 12:03\n",
            "2 KR_6869005297 2023/12/25 11:33\n",
            "3 KR_6868907951 2023/12/25 10:50\n",
            "4 KR_6868867800 2023/12/25 10:28\n",
            "5 KR_6868836350 2023/12/25 10:07\n",
            "6 KR_6862640322 2023/12/22 06:41\n",
            "7 KR_6862587942 2023/12/22 06:04\n",
            "8 KR_6862557810 2023/12/22 05:38\n",
            "9 KR_6862523633 2023/12/22 05:02\n",
            "10 KR_6862508285 2023/12/22 04:39\n",
            "11 KR_6862114657 2023/12/21 16:24\n",
            "12 KR_6862072758 2023/12/21 15:55\n",
            "13 KR_6862019211 2023/12/21 15:19\n",
            "14 KR_6861986150 2023/12/21 14:57\n",
            "15 KR_6861941572 2023/12/21 14:39\n",
            "16 KR_6857541971 2023/12/18 17:00\n",
            "17 KR_6857505793 2023/12/18 16:27\n",
            "18 KR_6857484360 2023/12/18 16:05\n",
            "19 KR_6857451632 2023/12/18 15:44\n"
          ]
        }
      ]
    },
    {
      "cell_type": "markdown",
      "source": [
        "## Step 3: Access to one match by matchID"
      ],
      "metadata": {
        "id": "N3WqeFh1suqW"
      }
    },
    {
      "cell_type": "markdown",
      "source": [
        "### 1.Match Result (遊戲結果)"
      ],
      "metadata": {
        "id": "xDqLEKDgPxFV"
      }
    },
    {
      "cell_type": "code",
      "metadata": {
        "id": "bPy66CiY3mdY"
      },
      "source": [
        "LastMatch_result = lol_watcher.match.by_id(region, Faker_Match[0])"
      ],
      "execution_count": null,
      "outputs": []
    },
    {
      "cell_type": "code",
      "source": [
        "LastMatch_result"
      ],
      "metadata": {
        "id": "LWg5-qbKfTZi"
      },
      "execution_count": null,
      "outputs": []
    },
    {
      "cell_type": "code",
      "source": [
        "import pandas as pd\n",
        "\n",
        "summoner = []\n",
        "champ = []\n",
        "position = []\n",
        "win = []\n",
        "kills = []\n",
        "deaths = []\n",
        "assists = []\n",
        "teamid = []\n",
        "\n",
        "for player in LastMatch_result['info']['participants']:\n",
        "  summoner.append(player['summonerName'])\n",
        "  champ.append(player['championName'])\n",
        "  position.append(player['teamPosition'])\n",
        "  teamid.append(player['teamId'])\n",
        "  win.append(player['win'])\n",
        "  kills.append(player['kills'])\n",
        "  deaths.append(player['deaths'])\n",
        "  assists.append(player['assists'])\n",
        "\n",
        "pd.DataFrame({'summoner': summoner,\n",
        "              'champ': champ,\n",
        "              'position': position,\n",
        "              'teamid': teamid,\n",
        "              'win': win,\n",
        "              'kills': kills,\n",
        "              'deaths': deaths,\n",
        "              'assists': assists})"
      ],
      "metadata": {
        "colab": {
          "base_uri": "https://localhost:8080/",
          "height": 363
        },
        "id": "4O31XNHy7JWk",
        "outputId": "40960bed-5c7a-48f6-be11-d3653d4a21cf"
      },
      "execution_count": null,
      "outputs": [
        {
          "output_type": "execute_result",
          "data": {
            "text/plain": [
              "       summoner       champ position  teamid    win  kills  deaths  assists\n",
              "0          uzne      Kennen      TOP     100   True     17       9       10\n",
              "1      이제는 놓아주자      Gragas   JUNGLE     100   True      5      13       13\n",
              "2  Hide on bush        Yone   MIDDLE     100   True     18       9       12\n",
              "3         슈퍼빅고수     Kalista   BOTTOM     100   True      9       9       15\n",
              "4       hyena06  Blitzcrank  UTILITY     100   True      2      10       20\n",
              "5        spr1ng      Rumble      TOP     200  False      9      10       15\n",
              "6        아진짜개춥당      LeeSin   JUNGLE     200  False     16       7       12\n",
              "7        Reche7       Sylas   MIDDLE     200  False     13      14       14\n",
              "8                     Varus   BOTTOM     200  False      9       8       19\n",
              "9           정글여       Braum  UTILITY     200  False      3      12       34"
            ],
            "text/html": [
              "\n",
              "  <div id=\"df-2b3e839d-aefe-499d-bb3e-c32c5028d075\" class=\"colab-df-container\">\n",
              "    <div>\n",
              "<style scoped>\n",
              "    .dataframe tbody tr th:only-of-type {\n",
              "        vertical-align: middle;\n",
              "    }\n",
              "\n",
              "    .dataframe tbody tr th {\n",
              "        vertical-align: top;\n",
              "    }\n",
              "\n",
              "    .dataframe thead th {\n",
              "        text-align: right;\n",
              "    }\n",
              "</style>\n",
              "<table border=\"1\" class=\"dataframe\">\n",
              "  <thead>\n",
              "    <tr style=\"text-align: right;\">\n",
              "      <th></th>\n",
              "      <th>summoner</th>\n",
              "      <th>champ</th>\n",
              "      <th>position</th>\n",
              "      <th>teamid</th>\n",
              "      <th>win</th>\n",
              "      <th>kills</th>\n",
              "      <th>deaths</th>\n",
              "      <th>assists</th>\n",
              "    </tr>\n",
              "  </thead>\n",
              "  <tbody>\n",
              "    <tr>\n",
              "      <th>0</th>\n",
              "      <td>uzne</td>\n",
              "      <td>Kennen</td>\n",
              "      <td>TOP</td>\n",
              "      <td>100</td>\n",
              "      <td>True</td>\n",
              "      <td>17</td>\n",
              "      <td>9</td>\n",
              "      <td>10</td>\n",
              "    </tr>\n",
              "    <tr>\n",
              "      <th>1</th>\n",
              "      <td>이제는 놓아주자</td>\n",
              "      <td>Gragas</td>\n",
              "      <td>JUNGLE</td>\n",
              "      <td>100</td>\n",
              "      <td>True</td>\n",
              "      <td>5</td>\n",
              "      <td>13</td>\n",
              "      <td>13</td>\n",
              "    </tr>\n",
              "    <tr>\n",
              "      <th>2</th>\n",
              "      <td>Hide on bush</td>\n",
              "      <td>Yone</td>\n",
              "      <td>MIDDLE</td>\n",
              "      <td>100</td>\n",
              "      <td>True</td>\n",
              "      <td>18</td>\n",
              "      <td>9</td>\n",
              "      <td>12</td>\n",
              "    </tr>\n",
              "    <tr>\n",
              "      <th>3</th>\n",
              "      <td>슈퍼빅고수</td>\n",
              "      <td>Kalista</td>\n",
              "      <td>BOTTOM</td>\n",
              "      <td>100</td>\n",
              "      <td>True</td>\n",
              "      <td>9</td>\n",
              "      <td>9</td>\n",
              "      <td>15</td>\n",
              "    </tr>\n",
              "    <tr>\n",
              "      <th>4</th>\n",
              "      <td>hyena06</td>\n",
              "      <td>Blitzcrank</td>\n",
              "      <td>UTILITY</td>\n",
              "      <td>100</td>\n",
              "      <td>True</td>\n",
              "      <td>2</td>\n",
              "      <td>10</td>\n",
              "      <td>20</td>\n",
              "    </tr>\n",
              "    <tr>\n",
              "      <th>5</th>\n",
              "      <td>spr1ng</td>\n",
              "      <td>Rumble</td>\n",
              "      <td>TOP</td>\n",
              "      <td>200</td>\n",
              "      <td>False</td>\n",
              "      <td>9</td>\n",
              "      <td>10</td>\n",
              "      <td>15</td>\n",
              "    </tr>\n",
              "    <tr>\n",
              "      <th>6</th>\n",
              "      <td>아진짜개춥당</td>\n",
              "      <td>LeeSin</td>\n",
              "      <td>JUNGLE</td>\n",
              "      <td>200</td>\n",
              "      <td>False</td>\n",
              "      <td>16</td>\n",
              "      <td>7</td>\n",
              "      <td>12</td>\n",
              "    </tr>\n",
              "    <tr>\n",
              "      <th>7</th>\n",
              "      <td>Reche7</td>\n",
              "      <td>Sylas</td>\n",
              "      <td>MIDDLE</td>\n",
              "      <td>200</td>\n",
              "      <td>False</td>\n",
              "      <td>13</td>\n",
              "      <td>14</td>\n",
              "      <td>14</td>\n",
              "    </tr>\n",
              "    <tr>\n",
              "      <th>8</th>\n",
              "      <td></td>\n",
              "      <td>Varus</td>\n",
              "      <td>BOTTOM</td>\n",
              "      <td>200</td>\n",
              "      <td>False</td>\n",
              "      <td>9</td>\n",
              "      <td>8</td>\n",
              "      <td>19</td>\n",
              "    </tr>\n",
              "    <tr>\n",
              "      <th>9</th>\n",
              "      <td>정글여</td>\n",
              "      <td>Braum</td>\n",
              "      <td>UTILITY</td>\n",
              "      <td>200</td>\n",
              "      <td>False</td>\n",
              "      <td>3</td>\n",
              "      <td>12</td>\n",
              "      <td>34</td>\n",
              "    </tr>\n",
              "  </tbody>\n",
              "</table>\n",
              "</div>\n",
              "    <div class=\"colab-df-buttons\">\n",
              "\n",
              "  <div class=\"colab-df-container\">\n",
              "    <button class=\"colab-df-convert\" onclick=\"convertToInteractive('df-2b3e839d-aefe-499d-bb3e-c32c5028d075')\"\n",
              "            title=\"Convert this dataframe to an interactive table.\"\n",
              "            style=\"display:none;\">\n",
              "\n",
              "  <svg xmlns=\"http://www.w3.org/2000/svg\" height=\"24px\" viewBox=\"0 -960 960 960\">\n",
              "    <path d=\"M120-120v-720h720v720H120Zm60-500h600v-160H180v160Zm220 220h160v-160H400v160Zm0 220h160v-160H400v160ZM180-400h160v-160H180v160Zm440 0h160v-160H620v160ZM180-180h160v-160H180v160Zm440 0h160v-160H620v160Z\"/>\n",
              "  </svg>\n",
              "    </button>\n",
              "\n",
              "  <style>\n",
              "    .colab-df-container {\n",
              "      display:flex;\n",
              "      gap: 12px;\n",
              "    }\n",
              "\n",
              "    .colab-df-convert {\n",
              "      background-color: #E8F0FE;\n",
              "      border: none;\n",
              "      border-radius: 50%;\n",
              "      cursor: pointer;\n",
              "      display: none;\n",
              "      fill: #1967D2;\n",
              "      height: 32px;\n",
              "      padding: 0 0 0 0;\n",
              "      width: 32px;\n",
              "    }\n",
              "\n",
              "    .colab-df-convert:hover {\n",
              "      background-color: #E2EBFA;\n",
              "      box-shadow: 0px 1px 2px rgba(60, 64, 67, 0.3), 0px 1px 3px 1px rgba(60, 64, 67, 0.15);\n",
              "      fill: #174EA6;\n",
              "    }\n",
              "\n",
              "    .colab-df-buttons div {\n",
              "      margin-bottom: 4px;\n",
              "    }\n",
              "\n",
              "    [theme=dark] .colab-df-convert {\n",
              "      background-color: #3B4455;\n",
              "      fill: #D2E3FC;\n",
              "    }\n",
              "\n",
              "    [theme=dark] .colab-df-convert:hover {\n",
              "      background-color: #434B5C;\n",
              "      box-shadow: 0px 1px 3px 1px rgba(0, 0, 0, 0.15);\n",
              "      filter: drop-shadow(0px 1px 2px rgba(0, 0, 0, 0.3));\n",
              "      fill: #FFFFFF;\n",
              "    }\n",
              "  </style>\n",
              "\n",
              "    <script>\n",
              "      const buttonEl =\n",
              "        document.querySelector('#df-2b3e839d-aefe-499d-bb3e-c32c5028d075 button.colab-df-convert');\n",
              "      buttonEl.style.display =\n",
              "        google.colab.kernel.accessAllowed ? 'block' : 'none';\n",
              "\n",
              "      async function convertToInteractive(key) {\n",
              "        const element = document.querySelector('#df-2b3e839d-aefe-499d-bb3e-c32c5028d075');\n",
              "        const dataTable =\n",
              "          await google.colab.kernel.invokeFunction('convertToInteractive',\n",
              "                                                    [key], {});\n",
              "        if (!dataTable) return;\n",
              "\n",
              "        const docLinkHtml = 'Like what you see? Visit the ' +\n",
              "          '<a target=\"_blank\" href=https://colab.research.google.com/notebooks/data_table.ipynb>data table notebook</a>'\n",
              "          + ' to learn more about interactive tables.';\n",
              "        element.innerHTML = '';\n",
              "        dataTable['output_type'] = 'display_data';\n",
              "        await google.colab.output.renderOutput(dataTable, element);\n",
              "        const docLink = document.createElement('div');\n",
              "        docLink.innerHTML = docLinkHtml;\n",
              "        element.appendChild(docLink);\n",
              "      }\n",
              "    </script>\n",
              "  </div>\n",
              "\n",
              "\n",
              "<div id=\"df-d208c87d-3dd8-4ac5-8ce5-99df72f080a7\">\n",
              "  <button class=\"colab-df-quickchart\" onclick=\"quickchart('df-d208c87d-3dd8-4ac5-8ce5-99df72f080a7')\"\n",
              "            title=\"Suggest charts\"\n",
              "            style=\"display:none;\">\n",
              "\n",
              "<svg xmlns=\"http://www.w3.org/2000/svg\" height=\"24px\"viewBox=\"0 0 24 24\"\n",
              "     width=\"24px\">\n",
              "    <g>\n",
              "        <path d=\"M19 3H5c-1.1 0-2 .9-2 2v14c0 1.1.9 2 2 2h14c1.1 0 2-.9 2-2V5c0-1.1-.9-2-2-2zM9 17H7v-7h2v7zm4 0h-2V7h2v10zm4 0h-2v-4h2v4z\"/>\n",
              "    </g>\n",
              "</svg>\n",
              "  </button>\n",
              "\n",
              "<style>\n",
              "  .colab-df-quickchart {\n",
              "      --bg-color: #E8F0FE;\n",
              "      --fill-color: #1967D2;\n",
              "      --hover-bg-color: #E2EBFA;\n",
              "      --hover-fill-color: #174EA6;\n",
              "      --disabled-fill-color: #AAA;\n",
              "      --disabled-bg-color: #DDD;\n",
              "  }\n",
              "\n",
              "  [theme=dark] .colab-df-quickchart {\n",
              "      --bg-color: #3B4455;\n",
              "      --fill-color: #D2E3FC;\n",
              "      --hover-bg-color: #434B5C;\n",
              "      --hover-fill-color: #FFFFFF;\n",
              "      --disabled-bg-color: #3B4455;\n",
              "      --disabled-fill-color: #666;\n",
              "  }\n",
              "\n",
              "  .colab-df-quickchart {\n",
              "    background-color: var(--bg-color);\n",
              "    border: none;\n",
              "    border-radius: 50%;\n",
              "    cursor: pointer;\n",
              "    display: none;\n",
              "    fill: var(--fill-color);\n",
              "    height: 32px;\n",
              "    padding: 0;\n",
              "    width: 32px;\n",
              "  }\n",
              "\n",
              "  .colab-df-quickchart:hover {\n",
              "    background-color: var(--hover-bg-color);\n",
              "    box-shadow: 0 1px 2px rgba(60, 64, 67, 0.3), 0 1px 3px 1px rgba(60, 64, 67, 0.15);\n",
              "    fill: var(--button-hover-fill-color);\n",
              "  }\n",
              "\n",
              "  .colab-df-quickchart-complete:disabled,\n",
              "  .colab-df-quickchart-complete:disabled:hover {\n",
              "    background-color: var(--disabled-bg-color);\n",
              "    fill: var(--disabled-fill-color);\n",
              "    box-shadow: none;\n",
              "  }\n",
              "\n",
              "  .colab-df-spinner {\n",
              "    border: 2px solid var(--fill-color);\n",
              "    border-color: transparent;\n",
              "    border-bottom-color: var(--fill-color);\n",
              "    animation:\n",
              "      spin 1s steps(1) infinite;\n",
              "  }\n",
              "\n",
              "  @keyframes spin {\n",
              "    0% {\n",
              "      border-color: transparent;\n",
              "      border-bottom-color: var(--fill-color);\n",
              "      border-left-color: var(--fill-color);\n",
              "    }\n",
              "    20% {\n",
              "      border-color: transparent;\n",
              "      border-left-color: var(--fill-color);\n",
              "      border-top-color: var(--fill-color);\n",
              "    }\n",
              "    30% {\n",
              "      border-color: transparent;\n",
              "      border-left-color: var(--fill-color);\n",
              "      border-top-color: var(--fill-color);\n",
              "      border-right-color: var(--fill-color);\n",
              "    }\n",
              "    40% {\n",
              "      border-color: transparent;\n",
              "      border-right-color: var(--fill-color);\n",
              "      border-top-color: var(--fill-color);\n",
              "    }\n",
              "    60% {\n",
              "      border-color: transparent;\n",
              "      border-right-color: var(--fill-color);\n",
              "    }\n",
              "    80% {\n",
              "      border-color: transparent;\n",
              "      border-right-color: var(--fill-color);\n",
              "      border-bottom-color: var(--fill-color);\n",
              "    }\n",
              "    90% {\n",
              "      border-color: transparent;\n",
              "      border-bottom-color: var(--fill-color);\n",
              "    }\n",
              "  }\n",
              "</style>\n",
              "\n",
              "  <script>\n",
              "    async function quickchart(key) {\n",
              "      const quickchartButtonEl =\n",
              "        document.querySelector('#' + key + ' button');\n",
              "      quickchartButtonEl.disabled = true;  // To prevent multiple clicks.\n",
              "      quickchartButtonEl.classList.add('colab-df-spinner');\n",
              "      try {\n",
              "        const charts = await google.colab.kernel.invokeFunction(\n",
              "            'suggestCharts', [key], {});\n",
              "      } catch (error) {\n",
              "        console.error('Error during call to suggestCharts:', error);\n",
              "      }\n",
              "      quickchartButtonEl.classList.remove('colab-df-spinner');\n",
              "      quickchartButtonEl.classList.add('colab-df-quickchart-complete');\n",
              "    }\n",
              "    (() => {\n",
              "      let quickchartButtonEl =\n",
              "        document.querySelector('#df-d208c87d-3dd8-4ac5-8ce5-99df72f080a7 button');\n",
              "      quickchartButtonEl.style.display =\n",
              "        google.colab.kernel.accessAllowed ? 'block' : 'none';\n",
              "    })();\n",
              "  </script>\n",
              "</div>\n",
              "\n",
              "    </div>\n",
              "  </div>\n"
            ]
          },
          "metadata": {},
          "execution_count": 66
        }
      ]
    },
    {
      "cell_type": "markdown",
      "source": [
        "### 2.Match Timeline (遊戲時間線)"
      ],
      "metadata": {
        "id": "45aMxxoAP3FX"
      }
    },
    {
      "cell_type": "code",
      "source": [
        "LastMatch_timeline = lol_watcher.match.timeline_by_match(region, Faker_Match[0])"
      ],
      "metadata": {
        "id": "KWBKo1zXFy_d"
      },
      "execution_count": null,
      "outputs": []
    },
    {
      "cell_type": "code",
      "source": [
        "LastMatch_timeline"
      ],
      "metadata": {
        "id": "3jDR6Ezay0Uq"
      },
      "execution_count": null,
      "outputs": []
    },
    {
      "cell_type": "markdown",
      "source": [
        ">"
      ],
      "metadata": {
        "id": "0Et8w34oJE48"
      }
    },
    {
      "cell_type": "markdown",
      "source": [
        ">"
      ],
      "metadata": {
        "id": "oGHwnzEbJIK7"
      }
    },
    {
      "cell_type": "markdown",
      "source": [
        ">"
      ],
      "metadata": {
        "id": "mnA9IuVuJIOr"
      }
    },
    {
      "cell_type": "markdown",
      "source": [
        ">"
      ],
      "metadata": {
        "id": "8tdONgt0JIRH"
      }
    },
    {
      "cell_type": "markdown",
      "source": [
        ">"
      ],
      "metadata": {
        "id": "dlx1RT2hJITl"
      }
    },
    {
      "cell_type": "markdown",
      "source": [
        ">"
      ],
      "metadata": {
        "id": "asFvnY9RJIV1"
      }
    },
    {
      "cell_type": "markdown",
      "source": [
        ">"
      ],
      "metadata": {
        "id": "s3q_SZjyJIYb"
      }
    },
    {
      "cell_type": "markdown",
      "source": [
        ">"
      ],
      "metadata": {
        "id": "E5Vu6qc4JIaw"
      }
    },
    {
      "cell_type": "markdown",
      "source": [
        ">"
      ],
      "metadata": {
        "id": "RgE3lWdnJIc1"
      }
    },
    {
      "cell_type": "markdown",
      "source": [
        ">"
      ],
      "metadata": {
        "id": "atqTYThUJIfR"
      }
    },
    {
      "cell_type": "markdown",
      "source": [
        ">"
      ],
      "metadata": {
        "id": "pTupvV5eJIhp"
      }
    },
    {
      "cell_type": "markdown",
      "source": [
        ">"
      ],
      "metadata": {
        "id": "jQNFF--UJIkC"
      }
    },
    {
      "cell_type": "markdown",
      "source": [
        ">"
      ],
      "metadata": {
        "id": "XuvZGckBJImp"
      }
    },
    {
      "cell_type": "markdown",
      "source": [
        ">"
      ],
      "metadata": {
        "id": "XiHRoql2JIoi"
      }
    }
  ]
}