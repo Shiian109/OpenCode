{
  "nbformat": 4,
  "nbformat_minor": 0,
  "metadata": {
    "colab": {
      "provenance": [],
      "authorship_tag": "ABX9TyMfCWeDBQSwTwVBgxZKq8EK",
      "include_colab_link": true
    },
    "kernelspec": {
      "name": "python3",
      "display_name": "Python 3"
    },
    "language_info": {
      "name": "python"
    }
  },
  "cells": [
    {
      "cell_type": "markdown",
      "metadata": {
        "id": "view-in-github",
        "colab_type": "text"
      },
      "source": [
        "<a href=\"https://colab.research.google.com/github/Shiian109/OpenCode/blob/main/KaggleTIP_02_Seed_Everything.ipynb\" target=\"_parent\"><img src=\"https://colab.research.google.com/assets/colab-badge.svg\" alt=\"Open In Colab\"/></a>"
      ]
    },
    {
      "cell_type": "markdown",
      "source": [
        "# TIP - Seed Everything\n"
      ],
      "metadata": {
        "id": "6q5-5bLtBDux"
      }
    },
    {
      "cell_type": "code",
      "source": [
        "import random\n",
        "import os\n",
        "import numpy as np\n",
        "import tensorflow as tf\n",
        "import torch\n",
        "\n",
        "def seed_everything(seed,\n",
        "                    tensorflow_init = True,\n",
        "                    pytorch_init = True):\n",
        "    \"\"\"\n",
        "    Seeds basic parameters for reproducibility of results\n",
        "    \"\"\"\n",
        "    random.seed(seed)\n",
        "    os.environ[\"PYTHONHASHSEED\"] = str(seed)\n",
        "    np.random.seed(seed)\n",
        "    if tensorflow_init is True:\n",
        "        tf.random.set_seed(seed)\n",
        "    if pytorch_init is True:\n",
        "        torch.manual_seed(seed)\n",
        "        torch.cuda.manual_seed(seed)\n",
        "        torch.backends.cudnn.deterministic = True\n",
        "        torch.backends.cudnn.benchmark = False"
      ],
      "metadata": {
        "id": "DaxRGohFVg-3"
      },
      "execution_count": null,
      "outputs": []
    },
    {
      "cell_type": "markdown",
      "source": [
        "##Example"
      ],
      "metadata": {
        "id": "HsaMaiWTTM-n"
      }
    },
    {
      "cell_type": "code",
      "source": [
        "from keras.models import Sequential\n",
        "from keras.layers import Dense"
      ],
      "metadata": {
        "id": "efFL-DN37XLa"
      },
      "execution_count": null,
      "outputs": []
    },
    {
      "cell_type": "code",
      "source": [
        "x = np.array([[10, 20, 30], [20, 30, 40], [30, 40, 50], [40, 50, 60]])\n",
        "y = np.array([40, 50, 60, 70])\n",
        "\n",
        "seed_everything(42) # fix the random seed\n",
        "\n",
        "model = Sequential()\n",
        "model.add(Dense(50, activation = 'relu'))\n",
        "model.add(Dense(1))\n",
        "model.compile(optimizer = 'adam', loss = 'mse')\n",
        "model.fit(x, y, epochs = 1000, verbose = 0)\n",
        "\n",
        "x_input = np.array([60, 70, 80])\n",
        "x_input = x_input.reshape((1,3))\n",
        "pred = model.predict(x_input, verbose = 0)\n",
        "print(pred)"
      ],
      "metadata": {
        "colab": {
          "base_uri": "https://localhost:8080/"
        },
        "id": "vUZRKJrd7LO_",
        "outputId": "0cb1bdf5-abda-4995-a1c5-c4159b60f9f3"
      },
      "execution_count": null,
      "outputs": [
        {
          "output_type": "stream",
          "name": "stdout",
          "text": [
            "[[98.664955]]\n"
          ]
        }
      ]
    },
    {
      "cell_type": "code",
      "source": [
        "# !pip install visualkeras\n",
        "import visualkeras\n",
        "visualkeras.layered_view(model)"
      ],
      "metadata": {
        "colab": {
          "base_uri": "https://localhost:8080/",
          "height": 44
        },
        "id": "xwEKKXnDG0X2",
        "outputId": "f51de1eb-cf7f-4af5-aa9e-4b9e0bbf5ff6"
      },
      "execution_count": null,
      "outputs": [
        {
          "output_type": "execute_result",
          "data": {
            "text/plain": [
              "<PIL.Image.Image image mode=RGBA size=77x27>"
            ],
            "image/png": "[encoded data removed]"
          },
          "metadata": {},
          "execution_count": 4
        }
      ]
    },
    {
      "cell_type": "code",
      "source": [
        "# Comparison 1: rerun model\n",
        "model = Sequential()\n",
        "model.add(Dense(50, activation = 'relu'))\n",
        "model.add(Dense(1))\n",
        "model.compile(optimizer = 'adam', loss = 'mse')\n",
        "model.fit(x, y, epochs = 1000, verbose = 0)\n",
        "\n",
        "x_input = np.array([60, 70, 80])\n",
        "x_input = x_input.reshape((1, 3))\n",
        "pred = model.predict(x_input, verbose = 0)\n",
        "print(pred)"
      ],
      "metadata": {
        "colab": {
          "base_uri": "https://localhost:8080/"
        },
        "id": "Czav5km19oGe",
        "outputId": "80237ceb-459b-4cba-9057-fc72de0b235e"
      },
      "execution_count": null,
      "outputs": [
        {
          "output_type": "stream",
          "name": "stdout",
          "text": [
            "[[97.70469]]\n"
          ]
        }
      ]
    },
    {
      "cell_type": "code",
      "source": [
        "# Comparison 2: rerun model.fit with a fixed random seed\n",
        "seed_everything(42)\n",
        "\n",
        "model.fit(x, y, epochs = 1000, verbose = 0)\n",
        "x_input = np.array([60, 70, 80])\n",
        "x_input = x_input.reshape((1, 3))\n",
        "pred = model.predict(x_input, verbose = 0)\n",
        "print(pred)"
      ],
      "metadata": {
        "colab": {
          "base_uri": "https://localhost:8080/"
        },
        "id": "AUtvLWWK7dEu",
        "outputId": "cdd835d9-3c74-4846-b2c6-5e412448e028"
      },
      "execution_count": null,
      "outputs": [
        {
          "output_type": "stream",
          "name": "stdout",
          "text": [
            "[[90.35341]]\n"
          ]
        }
      ]
    },
    {
      "cell_type": "code",
      "source": [
        "# Comparison 3: rerun model.compile & model.fit with a fixed random seed\n",
        "seed_everything(42)\n",
        "\n",
        "model.compile(optimizer = 'adam', loss = 'mse')\n",
        "model.fit(x, y, epochs = 1000, verbose = 0)\n",
        "x_input = np.array([60, 70, 80])\n",
        "x_input = x_input.reshape((1,3))\n",
        "pred = model.predict(x_input, verbose = 0)\n",
        "print(pred)"
      ],
      "metadata": {
        "colab": {
          "base_uri": "https://localhost:8080/"
        },
        "id": "dygDlm478-6B",
        "outputId": "8e4bb60e-14ea-40d1-b8dd-2c0c2b3d1d75"
      },
      "execution_count": null,
      "outputs": [
        {
          "output_type": "stream",
          "name": "stdout",
          "text": [
            "[[89.87776]]\n"
          ]
        }
      ]
    },
    {
      "cell_type": "code",
      "source": [
        "# Reproduce the results with seed_everything(42)\n",
        "seed_everything(42)\n",
        "\n",
        "model = Sequential()\n",
        "model.add(Dense(50, activation = 'relu', input_dim = 3))\n",
        "model.add(Dense(1))\n",
        "model.compile(optimizer = 'adam', loss = 'mse')\n",
        "model.fit(x, y, epochs = 1000, verbose = 0)\n",
        "x_input = np.array([60, 70, 80])\n",
        "x_input = x_input.reshape((1, 3))\n",
        "pred = model.predict(x_input, verbose = 0)\n",
        "print(pred)"
      ],
      "metadata": {
        "colab": {
          "base_uri": "https://localhost:8080/"
        },
        "id": "PAXn5Qi-7c_v",
        "outputId": "d39b98a1-f075-4244-a175-181a640f51e7"
      },
      "execution_count": null,
      "outputs": [
        {
          "output_type": "stream",
          "name": "stdout",
          "text": [
            "[[98.664955]]\n"
          ]
        }
      ]
    },
    {
      "cell_type": "markdown",
      "source": [
        ">"
      ],
      "metadata": {
        "id": "tbeuoB9iUAPf"
      }
    },
    {
      "cell_type": "markdown",
      "source": [
        ">"
      ],
      "metadata": {
        "id": "Gz9b1XWwUDyQ"
      }
    },
    {
      "cell_type": "markdown",
      "source": [
        ">"
      ],
      "metadata": {
        "id": "Voho1Z4fUD3C"
      }
    },
    {
      "cell_type": "markdown",
      "source": [
        ">"
      ],
      "metadata": {
        "id": "bs7BO1GaUD6y"
      }
    },
    {
      "cell_type": "markdown",
      "source": [
        ">"
      ],
      "metadata": {
        "id": "GClvVzeQUD-I"
      }
    },
    {
      "cell_type": "markdown",
      "source": [
        ">"
      ],
      "metadata": {
        "id": "ch9PTjZjUEBi"
      }
    },
    {
      "cell_type": "markdown",
      "source": [
        ">"
      ],
      "metadata": {
        "id": "xlAoNL06UEFG"
      }
    },
    {
      "cell_type": "markdown",
      "source": [
        ">"
      ],
      "metadata": {
        "id": "f99AL2GMUEJN"
      }
    }
  ]
}