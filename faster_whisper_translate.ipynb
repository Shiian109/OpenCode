{
  "nbformat": 4,
  "nbformat_minor": 0,
  "metadata": {
    "colab": {
      "provenance": [],
      "gpuType": "T4",
      "authorship_tag": "ABX9TyP9sUm9k5oTLc/SVYH8541Q",
      "include_colab_link": true
    },
    "kernelspec": {
      "name": "python3",
      "display_name": "Python 3"
    },
    "language_info": {
      "name": "python"
    },
    "accelerator": "GPU"
  },
  "cells": [
    {
      "cell_type": "markdown",
      "metadata": {
        "id": "view-in-github",
        "colab_type": "text"
      },
      "source": [
        "<a href=\"https://colab.research.google.com/github/Shiian109/OpenCode/blob/main/faster_whisper_translate.ipynb\" target=\"_parent\"><img src=\"https://colab.research.google.com/assets/colab-badge.svg\" alt=\"Open In Colab\"/></a>"
      ]
    },
    {
      "cell_type": "markdown",
      "source": [
        "# 中英双语字幕生成"
      ],
      "metadata": {
        "id": "zWSlRggB-J_K"
      }
    },
    {
      "cell_type": "markdown",
      "source": [
        "# Part 1 - 英语字幕"
      ],
      "metadata": {
        "id": "Fp3Wg04-OI9Q"
      }
    },
    {
      "cell_type": "markdown",
      "source": [
        "## Step 1 - CPU切换到GPU"
      ],
      "metadata": {
        "id": "tHOYTr9AfjIu"
      }
    },
    {
      "cell_type": "markdown",
      "source": [
        "## Step 2 - 安装whisper-ctranslate2"
      ],
      "metadata": {
        "id": "Hv6Y-eSYpwNe"
      }
    },
    {
      "cell_type": "code",
      "execution_count": 1,
      "metadata": {
        "id": "4RWaj7UhbOow",
        "colab": {
          "base_uri": "https://localhost:8080/"
        },
        "outputId": "cc441472-ffc6-4194-f2e7-153bf20d2c45"
      },
      "outputs": [
        {
          "output_type": "stream",
          "name": "stdout",
          "text": [
            "Collecting git+https://github.com/Softcatala/whisper-ctranslate2\n",
            "  Cloning https://github.com/Softcatala/whisper-ctranslate2 to /tmp/pip-req-build-ofeal57v\n",
            "  Running command git clone --filter=blob:none --quiet https://github.com/Softcatala/whisper-ctranslate2 /tmp/pip-req-build-ofeal57v\n",
            "  Resolved https://github.com/Softcatala/whisper-ctranslate2 to commit ca8f86183af6e4466d3933b989e5b0430dc5e01a\n",
            "  Preparing metadata (setup.py) ... \u001b[?25l\u001b[?25hdone\n",
            "Requirement already satisfied: numpy in /usr/local/lib/python3.10/dist-packages (from whisper-ctranslate2==0.4.3) (1.25.2)\n",
            "Collecting faster-whisper>=1.0.0 (from whisper-ctranslate2==0.4.3)\n",
            "  Downloading faster_whisper-1.0.1-py3-none-any.whl (1.5 MB)\n",
            "\u001b[2K     \u001b[90m━━━━━━━━━━━━━━━━━━━━━━━━━━━━━━━━━━━━━━━━\u001b[0m \u001b[32m1.5/1.5 MB\u001b[0m \u001b[31m9.5 MB/s\u001b[0m eta \u001b[36m0:00:00\u001b[0m\n",
            "\u001b[?25hCollecting ctranslate2 (from whisper-ctranslate2==0.4.3)\n",
            "  Downloading ctranslate2-4.1.0-cp310-cp310-manylinux_2_17_x86_64.manylinux2014_x86_64.whl (36.7 MB)\n",
            "\u001b[2K     \u001b[90m━━━━━━━━━━━━━━━━━━━━━━━━━━━━━━━━━━━━━━━━\u001b[0m \u001b[32m36.7/36.7 MB\u001b[0m \u001b[31m9.8 MB/s\u001b[0m eta \u001b[36m0:00:00\u001b[0m\n",
            "\u001b[?25hRequirement already satisfied: tqdm in /usr/local/lib/python3.10/dist-packages (from whisper-ctranslate2==0.4.3) (4.66.2)\n",
            "Collecting sounddevice (from whisper-ctranslate2==0.4.3)\n",
            "  Downloading sounddevice-0.4.6-py3-none-any.whl (31 kB)\n",
            "Collecting av==11.* (from faster-whisper>=1.0.0->whisper-ctranslate2==0.4.3)\n",
            "  Downloading av-11.0.0-cp310-cp310-manylinux_2_17_x86_64.manylinux2014_x86_64.whl (32.9 MB)\n",
            "\u001b[2K     \u001b[90m━━━━━━━━━━━━━━━━━━━━━━━━━━━━━━━━━━━━━━━━\u001b[0m \u001b[32m32.9/32.9 MB\u001b[0m \u001b[31m30.8 MB/s\u001b[0m eta \u001b[36m0:00:00\u001b[0m\n",
            "\u001b[?25hRequirement already satisfied: huggingface-hub>=0.13 in /usr/local/lib/python3.10/dist-packages (from faster-whisper>=1.0.0->whisper-ctranslate2==0.4.3) (0.20.3)\n",
            "Requirement already satisfied: tokenizers<0.16,>=0.13 in /usr/local/lib/python3.10/dist-packages (from faster-whisper>=1.0.0->whisper-ctranslate2==0.4.3) (0.15.2)\n",
            "Collecting onnxruntime<2,>=1.14 (from faster-whisper>=1.0.0->whisper-ctranslate2==0.4.3)\n",
            "  Downloading onnxruntime-1.17.3-cp310-cp310-manylinux_2_27_x86_64.manylinux_2_28_x86_64.whl (6.8 MB)\n",
            "\u001b[2K     \u001b[90m━━━━━━━━━━━━━━━━━━━━━━━━━━━━━━━━━━━━━━━━\u001b[0m \u001b[32m6.8/6.8 MB\u001b[0m \u001b[31m64.8 MB/s\u001b[0m eta \u001b[36m0:00:00\u001b[0m\n",
            "\u001b[?25hRequirement already satisfied: setuptools in /usr/local/lib/python3.10/dist-packages (from ctranslate2->whisper-ctranslate2==0.4.3) (67.7.2)\n",
            "Requirement already satisfied: pyyaml<7,>=5.3 in /usr/local/lib/python3.10/dist-packages (from ctranslate2->whisper-ctranslate2==0.4.3) (6.0.1)\n",
            "Requirement already satisfied: CFFI>=1.0 in /usr/local/lib/python3.10/dist-packages (from sounddevice->whisper-ctranslate2==0.4.3) (1.16.0)\n",
            "Requirement already satisfied: pycparser in /usr/local/lib/python3.10/dist-packages (from CFFI>=1.0->sounddevice->whisper-ctranslate2==0.4.3) (2.22)\n",
            "Requirement already satisfied: filelock in /usr/local/lib/python3.10/dist-packages (from huggingface-hub>=0.13->faster-whisper>=1.0.0->whisper-ctranslate2==0.4.3) (3.13.4)\n",
            "Requirement already satisfied: fsspec>=2023.5.0 in /usr/local/lib/python3.10/dist-packages (from huggingface-hub>=0.13->faster-whisper>=1.0.0->whisper-ctranslate2==0.4.3) (2023.6.0)\n",
            "Requirement already satisfied: requests in /usr/local/lib/python3.10/dist-packages (from huggingface-hub>=0.13->faster-whisper>=1.0.0->whisper-ctranslate2==0.4.3) (2.31.0)\n",
            "Requirement already satisfied: typing-extensions>=3.7.4.3 in /usr/local/lib/python3.10/dist-packages (from huggingface-hub>=0.13->faster-whisper>=1.0.0->whisper-ctranslate2==0.4.3) (4.11.0)\n",
            "Requirement already satisfied: packaging>=20.9 in /usr/local/lib/python3.10/dist-packages (from huggingface-hub>=0.13->faster-whisper>=1.0.0->whisper-ctranslate2==0.4.3) (24.0)\n",
            "Collecting coloredlogs (from onnxruntime<2,>=1.14->faster-whisper>=1.0.0->whisper-ctranslate2==0.4.3)\n",
            "  Downloading coloredlogs-15.0.1-py2.py3-none-any.whl (46 kB)\n",
            "\u001b[2K     \u001b[90m━━━━━━━━━━━━━━━━━━━━━━━━━━━━━━━━━━━━━━━━\u001b[0m \u001b[32m46.0/46.0 kB\u001b[0m \u001b[31m4.8 MB/s\u001b[0m eta \u001b[36m0:00:00\u001b[0m\n",
            "\u001b[?25hRequirement already satisfied: flatbuffers in /usr/local/lib/python3.10/dist-packages (from onnxruntime<2,>=1.14->faster-whisper>=1.0.0->whisper-ctranslate2==0.4.3) (24.3.25)\n",
            "Requirement already satisfied: protobuf in /usr/local/lib/python3.10/dist-packages (from onnxruntime<2,>=1.14->faster-whisper>=1.0.0->whisper-ctranslate2==0.4.3) (3.20.3)\n",
            "Requirement already satisfied: sympy in /usr/local/lib/python3.10/dist-packages (from onnxruntime<2,>=1.14->faster-whisper>=1.0.0->whisper-ctranslate2==0.4.3) (1.12)\n",
            "Collecting humanfriendly>=9.1 (from coloredlogs->onnxruntime<2,>=1.14->faster-whisper>=1.0.0->whisper-ctranslate2==0.4.3)\n",
            "  Downloading humanfriendly-10.0-py2.py3-none-any.whl (86 kB)\n",
            "\u001b[2K     \u001b[90m━━━━━━━━━━━━━━━━━━━━━━━━━━━━━━━━━━━━━━━━\u001b[0m \u001b[32m86.8/86.8 kB\u001b[0m \u001b[31m8.0 MB/s\u001b[0m eta \u001b[36m0:00:00\u001b[0m\n",
            "\u001b[?25hRequirement already satisfied: charset-normalizer<4,>=2 in /usr/local/lib/python3.10/dist-packages (from requests->huggingface-hub>=0.13->faster-whisper>=1.0.0->whisper-ctranslate2==0.4.3) (3.3.2)\n",
            "Requirement already satisfied: idna<4,>=2.5 in /usr/local/lib/python3.10/dist-packages (from requests->huggingface-hub>=0.13->faster-whisper>=1.0.0->whisper-ctranslate2==0.4.3) (3.6)\n",
            "Requirement already satisfied: urllib3<3,>=1.21.1 in /usr/local/lib/python3.10/dist-packages (from requests->huggingface-hub>=0.13->faster-whisper>=1.0.0->whisper-ctranslate2==0.4.3) (2.0.7)\n",
            "Requirement already satisfied: certifi>=2017.4.17 in /usr/local/lib/python3.10/dist-packages (from requests->huggingface-hub>=0.13->faster-whisper>=1.0.0->whisper-ctranslate2==0.4.3) (2024.2.2)\n",
            "Requirement already satisfied: mpmath>=0.19 in /usr/local/lib/python3.10/dist-packages (from sympy->onnxruntime<2,>=1.14->faster-whisper>=1.0.0->whisper-ctranslate2==0.4.3) (1.3.0)\n",
            "Building wheels for collected packages: whisper-ctranslate2\n",
            "  Building wheel for whisper-ctranslate2 (setup.py) ... \u001b[?25l\u001b[?25hdone\n",
            "  Created wheel for whisper-ctranslate2: filename=whisper_ctranslate2-0.4.3-py3-none-any.whl size=20833 sha256=116eafd2df2d90430ee1efb8cbb0390c38d6d8b29678370d379e36b2bb7c52ef\n",
            "  Stored in directory: /tmp/pip-ephem-wheel-cache-k0kwyd2k/wheels/52/96/a8/8bbdf122e1755cdb3cd6e509b410726b83cbd8b6b53e2b475f\n",
            "Successfully built whisper-ctranslate2\n",
            "Installing collected packages: humanfriendly, ctranslate2, av, sounddevice, coloredlogs, onnxruntime, faster-whisper, whisper-ctranslate2\n",
            "Successfully installed av-11.0.0 coloredlogs-15.0.1 ctranslate2-4.1.0 faster-whisper-1.0.1 humanfriendly-10.0 onnxruntime-1.17.3 sounddevice-0.4.6 whisper-ctranslate2-0.4.3\n"
          ]
        }
      ],
      "source": [
        "!pip install git+https://github.com/Softcatala/whisper-ctranslate2"
      ]
    },
    {
      "cell_type": "markdown",
      "source": [
        "## Step 3 - 上传文件"
      ],
      "metadata": {
        "id": "-6ewPpbKqBeY"
      }
    },
    {
      "cell_type": "markdown",
      "source": [
        "## Step 4 - 生成原语言字幕"
      ],
      "metadata": {
        "id": "MNW70sz5qQH6"
      }
    },
    {
      "cell_type": "code",
      "source": [
        "%%time\n",
        "\n",
        "!whisper-ctranslate2 ted_1min.mp3 --device cuda --model medium --vad_filter True"
      ],
      "metadata": {
        "id": "yn9LgwEMs4qm",
        "colab": {
          "base_uri": "https://localhost:8080/"
        },
        "outputId": "e713ff4c-d92f-4666-dc9a-60062b85f12f"
      },
      "execution_count": 2,
      "outputs": [
        {
          "output_type": "stream",
          "name": "stdout",
          "text": [
            "Detecting language using up to the first 30 seconds. Use `--language` to specify the language\n",
            "vocabulary.txt:   0% 0.00/460k [00:00<?, ?B/s]\n",
            "tokenizer.json:   0% 0.00/2.20M [00:00<?, ?B/s]\u001b[A\n",
            "\n",
            "config.json: 100% 2.26k/2.26k [00:00<00:00, 10.3MB/s]\n",
            "vocabulary.txt: 100% 460k/460k [00:00<00:00, 14.3MB/s]\n",
            "tokenizer.json: 100% 2.20M/2.20M [00:00<00:00, 27.5MB/s]\n",
            "model.bin: 100% 1.53G/1.53G [00:08<00:00, 174MB/s]\n",
            "Detected language 'English' with probability 0.996582\n",
            "[00:00.000 --> 00:05.880]  What if doing well in school and in life depends on much more\n",
            "[00:05.880 --> 00:09.600]  than your ability to learn quickly and easily?\n",
            "[00:09.600 --> 00:11.680]  I started studying kids and adults\n",
            "[00:11.680 --> 00:14.760]  in all kinds of super challenging settings.\n",
            "[00:14.760 --> 00:16.320]  And in every study, my question\n",
            "[00:16.320 --> 00:20.160]  was, who is successful here and why?\n",
            "[00:20.160 --> 00:24.160]  My research team and I went to West Point Military Academy.\n",
            "[00:24.160 --> 00:26.000]  We tried to predict which cadets would\n",
            "[00:26.000 --> 00:30.200]  stay in military training and which would drop out.\n",
            "[00:30.200 --> 00:32.760]  We went to the National Spelling V and tried\n",
            "[00:32.760 --> 00:37.080]  to predict which children would advance farthest in competition.\n",
            "[00:37.080 --> 00:39.200]  We partnered with private companies asking,\n",
            "[00:39.200 --> 00:41.880]  which of these sales people is going to keep their jobs\n",
            "[00:41.880 --> 00:44.120]  and who's going to earn the most money?\n",
            "[00:44.120 --> 00:46.920]  In all those very different contexts,\n",
            "[00:46.920 --> 00:50.440]  one characteristic emerged as a significant predictor\n",
            "[00:50.440 --> 00:51.800]  of success.\n",
            "[00:51.800 --> 00:53.920]  And it wasn't social intelligence.\n",
            "[00:53.960 --> 00:59.120]  It wasn't good looks, physical health, and it wasn't IQ.\n",
            "[00:59.120 --> 01:01.120]  It was grit.\n",
            "Transcription results written to '/content' directory\n",
            "CPU times: user 201 ms, sys: 42.7 ms, total: 244 ms\n",
            "Wall time: 24.1 s\n"
          ]
        }
      ]
    },
    {
      "cell_type": "code",
      "source": [
        "# CPU Version\n",
        "# !whisper-ctranslate2 ted_1min.mp3 --device cpu --model medium --vad_filter True"
      ],
      "metadata": {
        "id": "TLP1Abk3-lkp"
      },
      "execution_count": null,
      "outputs": []
    },
    {
      "cell_type": "markdown",
      "source": [
        "# Part 2 - 中文字幕"
      ],
      "metadata": {
        "id": "r5A6sCEWOUb7"
      }
    },
    {
      "cell_type": "markdown",
      "source": [
        "## Step 5 - 读取英语字幕"
      ],
      "metadata": {
        "id": "UKNib5kR48QT"
      }
    },
    {
      "cell_type": "code",
      "source": [
        "!pip install pysubs2"
      ],
      "metadata": {
        "id": "xT1-_9eO09fe",
        "colab": {
          "base_uri": "https://localhost:8080/"
        },
        "outputId": "22e1ff0d-d468-4b29-8a31-4f5a1a2345ce"
      },
      "execution_count": 3,
      "outputs": [
        {
          "output_type": "stream",
          "name": "stdout",
          "text": [
            "Collecting pysubs2\n",
            "  Downloading pysubs2-1.6.1-py3-none-any.whl (35 kB)\n",
            "Installing collected packages: pysubs2\n",
            "Successfully installed pysubs2-1.6.1\n"
          ]
        }
      ]
    },
    {
      "cell_type": "code",
      "source": [
        "import pysubs2"
      ],
      "metadata": {
        "id": "Zo2UfB0ks3kw"
      },
      "execution_count": 4,
      "outputs": []
    },
    {
      "cell_type": "code",
      "source": [
        "subs_en = pysubs2.load(\"ted_1min.srt\")"
      ],
      "metadata": {
        "id": "UFBuJWN_0_3F"
      },
      "execution_count": 5,
      "outputs": []
    },
    {
      "cell_type": "code",
      "source": [
        "subs_en"
      ],
      "metadata": {
        "id": "opImihF9_v1O",
        "colab": {
          "base_uri": "https://localhost:8080/"
        },
        "outputId": "68716e75-52fa-4e35-9f5a-a546b3cdd0c5"
      },
      "execution_count": 6,
      "outputs": [
        {
          "output_type": "execute_result",
          "data": {
            "text/plain": [
              "<SSAFile with 20 events and 1 styles, last timestamp 0:01:01>"
            ]
          },
          "metadata": {},
          "execution_count": 6
        }
      ]
    },
    {
      "cell_type": "code",
      "source": [
        "subs_en[0]"
      ],
      "metadata": {
        "id": "-A1YAkZl_8uw",
        "colab": {
          "base_uri": "https://localhost:8080/"
        },
        "outputId": "198f93c2-a626-4e9b-a779-db32a5eb01ca"
      },
      "execution_count": 7,
      "outputs": [
        {
          "output_type": "execute_result",
          "data": {
            "text/plain": [
              "<SSAEvent type=Dialogue start=0:00:00 end=0:00:05 text='What if doing well in school and in life depends on much more'>"
            ]
          },
          "metadata": {},
          "execution_count": 7
        }
      ]
    },
    {
      "cell_type": "code",
      "source": [
        "subs_en[0].text"
      ],
      "metadata": {
        "id": "Qcu8Kq9V1G0x",
        "colab": {
          "base_uri": "https://localhost:8080/",
          "height": 35
        },
        "outputId": "155119e6-8851-4307-f6e8-3857801a29ae"
      },
      "execution_count": 8,
      "outputs": [
        {
          "output_type": "execute_result",
          "data": {
            "text/plain": [
              "'What if doing well in school and in life depends on much more'"
            ],
            "application/vnd.google.colaboratory.intrinsic+json": {
              "type": "string"
            }
          },
          "metadata": {},
          "execution_count": 8
        }
      ]
    },
    {
      "cell_type": "code",
      "source": [
        "for line in subs_en:\n",
        "    print(line.text, '/n')"
      ],
      "metadata": {
        "id": "r1fapT4H1Q70",
        "colab": {
          "base_uri": "https://localhost:8080/"
        },
        "outputId": "45b64afe-8f85-4e80-db97-6d89a2357fc7"
      },
      "execution_count": 9,
      "outputs": [
        {
          "output_type": "stream",
          "name": "stdout",
          "text": [
            "What if doing well in school and in life depends on much more /n\n",
            "than your ability to learn quickly and easily? /n\n",
            "I started studying kids and adults /n\n",
            "in all kinds of super challenging settings. /n\n",
            "And in every study, my question /n\n",
            "was, who is successful here and why? /n\n",
            "My research team and I went to West Point Military Academy. /n\n",
            "We tried to predict which cadets would /n\n",
            "stay in military training and which would drop out. /n\n",
            "We went to the National Spelling V and tried /n\n",
            "to predict which children would advance farthest in competition. /n\n",
            "We partnered with private companies asking, /n\n",
            "which of these sales people is going to keep their jobs /n\n",
            "and who's going to earn the most money? /n\n",
            "In all those very different contexts, /n\n",
            "one characteristic emerged as a significant predictor /n\n",
            "of success. /n\n",
            "And it wasn't social intelligence. /n\n",
            "It wasn't good looks, physical health, and it wasn't IQ. /n\n",
            "It was grit. /n\n"
          ]
        }
      ]
    },
    {
      "cell_type": "markdown",
      "source": [
        "## Step 6 - 翻译英语字幕(调用deepl API 需注册)"
      ],
      "metadata": {
        "id": "2Sy5SN5_9Rmu"
      }
    },
    {
      "cell_type": "code",
      "source": [
        "!pip install deepl"
      ],
      "metadata": {
        "colab": {
          "base_uri": "https://localhost:8080/"
        },
        "id": "LdOimBrz3_eJ",
        "outputId": "ac868e0d-cadc-40c8-c829-6349018699fa"
      },
      "execution_count": 10,
      "outputs": [
        {
          "output_type": "stream",
          "name": "stdout",
          "text": [
            "Collecting deepl\n",
            "  Downloading deepl-1.17.0-py3-none-any.whl (35 kB)\n",
            "Requirement already satisfied: requests<3,>=2 in /usr/local/lib/python3.10/dist-packages (from deepl) (2.31.0)\n",
            "Requirement already satisfied: charset-normalizer<4,>=2 in /usr/local/lib/python3.10/dist-packages (from requests<3,>=2->deepl) (3.3.2)\n",
            "Requirement already satisfied: idna<4,>=2.5 in /usr/local/lib/python3.10/dist-packages (from requests<3,>=2->deepl) (3.6)\n",
            "Requirement already satisfied: urllib3<3,>=1.21.1 in /usr/local/lib/python3.10/dist-packages (from requests<3,>=2->deepl) (2.0.7)\n",
            "Requirement already satisfied: certifi>=2017.4.17 in /usr/local/lib/python3.10/dist-packages (from requests<3,>=2->deepl) (2024.2.2)\n",
            "Installing collected packages: deepl\n",
            "Successfully installed deepl-1.17.0\n"
          ]
        }
      ]
    },
    {
      "cell_type": "code",
      "source": [
        "import deepl\n",
        "\n",
        "auth_key = \"c43d7073-409a-43c2-83ad-8b29384aaab2:fx\"  # Replace with your key\n",
        "translator = deepl.Translator(auth_key)\n",
        "\n",
        "result = translator.translate_text(\"Hello, world!\", target_lang=\"ZH\")\n",
        "print(result.text)  # \"Bonjour, le monde !\""
      ],
      "metadata": {
        "colab": {
          "base_uri": "https://localhost:8080/"
        },
        "id": "y1UMrgDQ-Muu",
        "outputId": "24a50f97-4031-4bde-d526-ca261728dbdc"
      },
      "execution_count": 12,
      "outputs": [
        {
          "output_type": "stream",
          "name": "stdout",
          "text": [
            "你好，世界\n"
          ]
        }
      ]
    },
    {
      "cell_type": "code",
      "source": [
        "sample_str = subs_en[0].text\n",
        "translator.translate_text(sample_str, target_lang=\"ZH\").text"
      ],
      "metadata": {
        "colab": {
          "base_uri": "https://localhost:8080/",
          "height": 35
        },
        "id": "JAMloGeR4bEJ",
        "outputId": "61606439-cc6e-4000-90a8-c68488410ca1"
      },
      "execution_count": 13,
      "outputs": [
        {
          "output_type": "execute_result",
          "data": {
            "text/plain": [
              "'如果学习和生活的好坏不仅仅取决于'"
            ],
            "application/vnd.google.colaboratory.intrinsic+json": {
              "type": "string"
            }
          },
          "metadata": {},
          "execution_count": 13
        }
      ]
    },
    {
      "cell_type": "code",
      "source": [
        "def translate_toChinese(text):\n",
        "  return translator.translate_text(text, target_lang=\"ZH\").text"
      ],
      "metadata": {
        "id": "PEwBFoZ34oAl"
      },
      "execution_count": 14,
      "outputs": []
    },
    {
      "cell_type": "code",
      "source": [
        "subs_cn = subs_en"
      ],
      "metadata": {
        "id": "qx5bq6duCrFi"
      },
      "execution_count": 15,
      "outputs": []
    },
    {
      "cell_type": "code",
      "source": [
        "for sub in subs_cn:\n",
        "  text = sub.text\n",
        "  sub.text = translate_toChinese(text)"
      ],
      "metadata": {
        "id": "BxSTbN8s1pYj"
      },
      "execution_count": 16,
      "outputs": []
    },
    {
      "cell_type": "code",
      "source": [
        "translated_srt = subs_cn.to_string(\"srt\")\n",
        "translated_subs = pysubs2.SSAFile.from_string(translated_srt)\n",
        "translated_subs.save(\"ted_1min_cn.srt\")"
      ],
      "metadata": {
        "id": "Klo-iWxt2JSf"
      },
      "execution_count": 17,
      "outputs": []
    },
    {
      "cell_type": "code",
      "source": [
        "translated_srt"
      ],
      "metadata": {
        "colab": {
          "base_uri": "https://localhost:8080/",
          "height": 157
        },
        "id": "sg4NfBYd4vTV",
        "outputId": "8da598b8-677a-48a4-a3c1-431839e2a9db"
      },
      "execution_count": 18,
      "outputs": [
        {
          "output_type": "execute_result",
          "data": {
            "text/plain": [
              "'1\\n00:00:00,000 --> 00:00:05,880\\n如果学习和生活的好坏不仅仅取决于\\n\\n2\\n00:00:05,880 --> 00:00:09,600\\n比你快速轻松学习的能力更强？\\n\\n3\\n00:00:09,600 --> 00:00:11,680\\n我开始研究儿童和成人\\n\\n4\\n00:00:11,680 --> 00:00:14,760\\n在各种极具挑战性的环境中。\\n\\n5\\n00:00:14,760 --> 00:00:16,320\\n在每项研究中，我的问题是\\n\\n6\\n00:00:16,320 --> 00:00:20,160\\n是，谁在这里取得了成功，为什么？\\n\\n7\\n00:00:20,160 --> 00:00:24,160\\n我和我的研究团队去了西点军校。\\n\\n8\\n00:00:24,160 --> 00:00:26,000\\n我们试图预测哪些学员会\\n\\n9\\n00:00:26,000 --> 00:00:30,200\\n哪些会继续参加军训，哪些会退学。\\n\\n10\\n00:00:30,200 --> 00:00:32,760\\n我们参加了全国拼写大赛 V，并尝试了\\n\\n11\\n00:00:32,760 --> 00:00:37,080\\n来预测哪些孩子在比赛中晋级最远。\\n\\n12\\n00:00:37,080 --> 00:00:39,200\\n我们与私营公司合作，要求\\n\\n13\\n00:00:39,200 --> 00:00:41,880\\n哪个销售人员能保住饭碗？\\n\\n14\\n00:00:41,880 --> 00:00:44,120\\n谁能赚到最多的钱呢？\\n\\n15\\n00:00:44,120 --> 00:00:46,920\\n在所有这些截然不同的背景下、\\n\\n16\\n00:00:46,920 --> 00:00:50,440\\n有一项特征成为重要的预测因素\\n\\n17\\n00:00:50,440 --> 00:00:51,800\\n的成功。\\n\\n18\\n00:00:51,800 --> 00:00:53,920\\n这不是社会智力的问题。\\n\\n19\\n00:00:53,960 --> 00:00:59,120\\n这与相貌和身体健康无关，也与智商无关。\\n\\n20\\n00:00:59,120 --> 00:01:01,120\\n这是一种勇气。\\n\\n'"
            ],
            "application/vnd.google.colaboratory.intrinsic+json": {
              "type": "string"
            }
          },
          "metadata": {},
          "execution_count": 18
        }
      ]
    },
    {
      "cell_type": "markdown",
      "source": [
        "# Part 3 - 合成双语字幕"
      ],
      "metadata": {
        "id": "Q2Xr-d4hT9u0"
      }
    },
    {
      "cell_type": "markdown",
      "source": [
        "## Step 7 - 利用pysubs2合成上下字幕"
      ],
      "metadata": {
        "id": "KM0aZV3_DTqV"
      }
    },
    {
      "cell_type": "code",
      "source": [
        "from pysubs2 import Alignment, Color, SSAFile, SSAStyle\n",
        "\n",
        "subs_en = pysubs2.load(\"ted_1min.srt\")  # read input subtitles in SRT format\n",
        "subs_cn = pysubs2.load(\"ted_1min_cn.srt\")\n",
        "\n",
        "subs = SSAFile()\n",
        "subs.styles = {\n",
        "    \"bottom\": SSAStyle(alignment=Alignment.BOTTOM_CENTER, primarycolor=Color(255, 255, 0)),\n",
        "    \"top\": SSAStyle(alignment=Alignment.TOP_CENTER, primarycolor=pysubs2.Color(0, 128, 128)),\n",
        "}\n",
        "\n",
        "for e in subs_en:\n",
        "    e.style = \"bottom\"\n",
        "    subs.append(e)\n",
        "for e in subs_cn:\n",
        "    e.style = \"top\"\n",
        "    subs.append(e)\n",
        "\n",
        "subs.save(\"ted_1min.ass\")"
      ],
      "metadata": {
        "id": "dk8paU8RDXc7"
      },
      "execution_count": 26,
      "outputs": []
    },
    {
      "cell_type": "code",
      "source": [
        "for sub in subs_cn:\n",
        "  print(sub.text)"
      ],
      "metadata": {
        "colab": {
          "base_uri": "https://localhost:8080/"
        },
        "id": "BlByPYVIxvA2",
        "outputId": "1892385b-e1c8-4d95-8e3d-3386fd15553c"
      },
      "execution_count": 27,
      "outputs": [
        {
          "output_type": "stream",
          "name": "stdout",
          "text": [
            "如果学习和生活的好坏不仅仅取决于\n",
            "比你快速轻松学习的能力更强？\n",
            "我开始研究儿童和成人\n",
            "在各种极具挑战性的环境中。\n",
            "在每项研究中，我的问题是\n",
            "是，谁在这里取得了成功，为什么？\n",
            "我和我的研究团队去了西点军校。\n",
            "我们试图预测哪些学员会\n",
            "哪些会继续参加军训，哪些会退学。\n",
            "我们参加了全国拼写大赛 V，并尝试了\n",
            "来预测哪些孩子在比赛中晋级最远。\n",
            "我们与私营公司合作，要求\n",
            "哪个销售人员能保住饭碗？\n",
            "谁能赚到最多的钱呢？\n",
            "在所有这些截然不同的背景下、\n",
            "有一项特征成为重要的预测因素\n",
            "的成功。\n",
            "这不是社会智力的问题。\n",
            "这与相貌和身体健康无关，也与智商无关。\n",
            "这是一种勇气。\n"
          ]
        }
      ]
    },
    {
      "cell_type": "code",
      "source": [
        "for sub in subs_en:\n",
        "  print(sub.text)"
      ],
      "metadata": {
        "colab": {
          "base_uri": "https://localhost:8080/"
        },
        "id": "fqgfLNzRx0_f",
        "outputId": "ba80dea8-b207-4c61-870a-ac151bf2472a"
      },
      "execution_count": 28,
      "outputs": [
        {
          "output_type": "stream",
          "name": "stdout",
          "text": [
            "What if doing well in school and in life depends on much more\n",
            "than your ability to learn quickly and easily?\n",
            "I started studying kids and adults\n",
            "in all kinds of super challenging settings.\n",
            "And in every study, my question\n",
            "was, who is successful here and why?\n",
            "My research team and I went to West Point Military Academy.\n",
            "We tried to predict which cadets would\n",
            "stay in military training and which would drop out.\n",
            "We went to the National Spelling V and tried\n",
            "to predict which children would advance farthest in competition.\n",
            "We partnered with private companies asking,\n",
            "which of these sales people is going to keep their jobs\n",
            "and who's going to earn the most money?\n",
            "In all those very different contexts,\n",
            "one characteristic emerged as a significant predictor\n",
            "of success.\n",
            "And it wasn't social intelligence.\n",
            "It wasn't good looks, physical health, and it wasn't IQ.\n",
            "It was grit.\n"
          ]
        }
      ]
    },
    {
      "cell_type": "markdown",
      "source": [
        "## Step 8 - ass转srt"
      ],
      "metadata": {
        "id": "QE4VdPy8fW0N"
      }
    },
    {
      "cell_type": "markdown",
      "source": [
        "**在线ass转srt的工具**： https://gotranscript.com/subtitle-converter"
      ],
      "metadata": {
        "id": "edGpkOvYO0fQ"
      }
    },
    {
      "cell_type": "code",
      "source": [],
      "metadata": {
        "id": "S6HRoJVU5BOB"
      },
      "execution_count": null,
      "outputs": []
    }
  ]
}